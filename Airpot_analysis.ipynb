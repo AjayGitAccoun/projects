{
 "cells": [
  {
   "cell_type": "code",
   "execution_count": 1,
   "id": "419e7a6b",
   "metadata": {},
   "outputs": [],
   "source": [
    "import numpy as np\n",
    "import pandas as pd\n",
    "import matplotlib.pyplot as plt\n",
    "import seaborn as sns\n",
    "%matplotlib inline "
   ]
  },
  {
   "cell_type": "code",
   "execution_count": 2,
   "id": "9ec9af22",
   "metadata": {},
   "outputs": [
    {
     "data": {
      "text/html": [
       "<div>\n",
       "<style scoped>\n",
       "    .dataframe tbody tr th:only-of-type {\n",
       "        vertical-align: middle;\n",
       "    }\n",
       "\n",
       "    .dataframe tbody tr th {\n",
       "        vertical-align: top;\n",
       "    }\n",
       "\n",
       "    .dataframe thead th {\n",
       "        text-align: right;\n",
       "    }\n",
       "</style>\n",
       "<table border=\"1\" class=\"dataframe\">\n",
       "  <thead>\n",
       "    <tr style=\"text-align: right;\">\n",
       "      <th></th>\n",
       "      <th>Rank</th>\n",
       "      <th>Airport</th>\n",
       "      <th>Location</th>\n",
       "      <th>Country</th>\n",
       "      <th>Code</th>\n",
       "      <th>Passengers</th>\n",
       "      <th>Year</th>\n",
       "    </tr>\n",
       "  </thead>\n",
       "  <tbody>\n",
       "    <tr>\n",
       "      <th>0</th>\n",
       "      <td>1</td>\n",
       "      <td>China Guangzhou Baiyun International Airport</td>\n",
       "      <td>Baiyun-Huadu, Guangzhou, Guangdong</td>\n",
       "      <td>China</td>\n",
       "      <td>CAN/ZGGG</td>\n",
       "      <td>43760427</td>\n",
       "      <td>2020</td>\n",
       "    </tr>\n",
       "    <tr>\n",
       "      <th>1</th>\n",
       "      <td>2</td>\n",
       "      <td>United States Hartsfield–Jackson Atlanta Inter...</td>\n",
       "      <td>Atlanta, Georgia</td>\n",
       "      <td>United States</td>\n",
       "      <td>ATL/KATL</td>\n",
       "      <td>42918685</td>\n",
       "      <td>2020</td>\n",
       "    </tr>\n",
       "    <tr>\n",
       "      <th>2</th>\n",
       "      <td>3</td>\n",
       "      <td>China Chengdu Shuangliu International Airport</td>\n",
       "      <td>Shuangliu-Wuhou, Chengdu, Sichuan</td>\n",
       "      <td>China</td>\n",
       "      <td>CTU/ZUUU</td>\n",
       "      <td>40741509</td>\n",
       "      <td>2020</td>\n",
       "    </tr>\n",
       "    <tr>\n",
       "      <th>3</th>\n",
       "      <td>4</td>\n",
       "      <td>United States Dallas/Fort Worth International ...</td>\n",
       "      <td>Dallas-Fort Worth, Texas</td>\n",
       "      <td>United States</td>\n",
       "      <td>DFW/KDFW</td>\n",
       "      <td>39364990</td>\n",
       "      <td>2020</td>\n",
       "    </tr>\n",
       "    <tr>\n",
       "      <th>4</th>\n",
       "      <td>5</td>\n",
       "      <td>China Shenzhen Bao'an International Airport</td>\n",
       "      <td>Bao'an, Shenzhen, Guangdong</td>\n",
       "      <td>China</td>\n",
       "      <td>SZX/ZGSZ</td>\n",
       "      <td>37916059</td>\n",
       "      <td>2020</td>\n",
       "    </tr>\n",
       "  </tbody>\n",
       "</table>\n",
       "</div>"
      ],
      "text/plain": [
       "   Rank                                            Airport  \\\n",
       "0     1       China Guangzhou Baiyun International Airport   \n",
       "1     2  United States Hartsfield–Jackson Atlanta Inter...   \n",
       "2     3      China Chengdu Shuangliu International Airport   \n",
       "3     4  United States Dallas/Fort Worth International ...   \n",
       "4     5        China Shenzhen Bao'an International Airport   \n",
       "\n",
       "                             Location        Country      Code  Passengers  \\\n",
       "0  Baiyun-Huadu, Guangzhou, Guangdong          China  CAN/ZGGG    43760427   \n",
       "1                    Atlanta, Georgia  United States  ATL/KATL    42918685   \n",
       "2   Shuangliu-Wuhou, Chengdu, Sichuan          China  CTU/ZUUU    40741509   \n",
       "3            Dallas-Fort Worth, Texas  United States  DFW/KDFW    39364990   \n",
       "4         Bao'an, Shenzhen, Guangdong          China  SZX/ZGSZ    37916059   \n",
       "\n",
       "   Year  \n",
       "0  2020  \n",
       "1  2020  \n",
       "2  2020  \n",
       "3  2020  \n",
       "4  2020  "
      ]
     },
     "execution_count": 2,
     "metadata": {},
     "output_type": "execute_result"
    }
   ],
   "source": [
    "df = pd.read_csv(r'C:\\Users\\arjun\\Downloads\\Airports.csv')\n",
    "df.head()"
   ]
  },
  {
   "cell_type": "code",
   "execution_count": 3,
   "id": "a6319104",
   "metadata": {},
   "outputs": [
    {
     "name": "stdout",
     "output_type": "stream",
     "text": [
      "<class 'pandas.core.frame.DataFrame'>\n",
      "RangeIndex: 250 entries, 0 to 249\n",
      "Data columns (total 7 columns):\n",
      " #   Column      Non-Null Count  Dtype \n",
      "---  ------      --------------  ----- \n",
      " 0   Rank        250 non-null    int64 \n",
      " 1   Airport     250 non-null    object\n",
      " 2   Location    250 non-null    object\n",
      " 3   Country     250 non-null    object\n",
      " 4   Code        250 non-null    object\n",
      " 5   Passengers  250 non-null    int64 \n",
      " 6   Year        250 non-null    int64 \n",
      "dtypes: int64(3), object(4)\n",
      "memory usage: 13.8+ KB\n"
     ]
    }
   ],
   "source": [
    "df.info()"
   ]
  },
  {
   "cell_type": "markdown",
   "id": "feced353",
   "metadata": {},
   "source": [
    "# TASK-1 Which country has most crowded airpots?"
   ]
  },
  {
   "cell_type": "code",
   "execution_count": 4,
   "id": "ee8fc5fb",
   "metadata": {},
   "outputs": [
    {
     "data": {
      "text/plain": [
       "array(['China', 'United States', 'Japan', 'India', 'United Arab Emirates',\n",
       "       'Turkey', 'France', 'United Kingdom', 'Mexico', 'Vietnam',\n",
       "       'South Korea', 'Netherlands', 'Brazil', 'Russia', 'Germany',\n",
       "       'Spain', 'Thailand', 'Hong Kong SAR, China', 'Singapore',\n",
       "       'Malaysia', 'Indonesia', 'Canada', 'Taiwan', 'Philippines',\n",
       "       'Australia', 'Italy', 'The Netherlands', 'Republic of Korea',\n",
       "       'Qatar'], dtype=object)"
      ]
     },
     "execution_count": 4,
     "metadata": {},
     "output_type": "execute_result"
    }
   ],
   "source": [
    "df['Country'].unique()\n"
   ]
  },
  {
   "cell_type": "code",
   "execution_count": 5,
   "id": "16af07b1",
   "metadata": {},
   "outputs": [
    {
     "data": {
      "text/html": [
       "<div>\n",
       "<style scoped>\n",
       "    .dataframe tbody tr th:only-of-type {\n",
       "        vertical-align: middle;\n",
       "    }\n",
       "\n",
       "    .dataframe tbody tr th {\n",
       "        vertical-align: top;\n",
       "    }\n",
       "\n",
       "    .dataframe thead th {\n",
       "        text-align: right;\n",
       "    }\n",
       "</style>\n",
       "<table border=\"1\" class=\"dataframe\">\n",
       "  <thead>\n",
       "    <tr style=\"text-align: right;\">\n",
       "      <th></th>\n",
       "      <th>Passengers</th>\n",
       "    </tr>\n",
       "    <tr>\n",
       "      <th>Country</th>\n",
       "      <th></th>\n",
       "    </tr>\n",
       "  </thead>\n",
       "  <tbody>\n",
       "    <tr>\n",
       "      <th>United States</th>\n",
       "      <td>3964596952</td>\n",
       "    </tr>\n",
       "    <tr>\n",
       "      <th>China</th>\n",
       "      <td>2344913081</td>\n",
       "    </tr>\n",
       "    <tr>\n",
       "      <th>Japan</th>\n",
       "      <td>526670590</td>\n",
       "    </tr>\n",
       "    <tr>\n",
       "      <th>United Kingdom</th>\n",
       "      <td>518562015</td>\n",
       "    </tr>\n",
       "    <tr>\n",
       "      <th>India</th>\n",
       "      <td>474792880</td>\n",
       "    </tr>\n",
       "    <tr>\n",
       "      <th>Germany</th>\n",
       "      <td>465158183</td>\n",
       "    </tr>\n",
       "    <tr>\n",
       "      <th>Spain</th>\n",
       "      <td>434672131</td>\n",
       "    </tr>\n",
       "    <tr>\n",
       "      <th>United Arab Emirates</th>\n",
       "      <td>373342493</td>\n",
       "    </tr>\n",
       "    <tr>\n",
       "      <th>France</th>\n",
       "      <td>306041788</td>\n",
       "    </tr>\n",
       "    <tr>\n",
       "      <th>Hong Kong SAR, China</th>\n",
       "      <td>288912187</td>\n",
       "    </tr>\n",
       "    <tr>\n",
       "      <th>Turkey</th>\n",
       "      <td>284701885</td>\n",
       "    </tr>\n",
       "    <tr>\n",
       "      <th>Thailand</th>\n",
       "      <td>262259752</td>\n",
       "    </tr>\n",
       "    <tr>\n",
       "      <th>Singapore</th>\n",
       "      <td>254829000</td>\n",
       "    </tr>\n",
       "    <tr>\n",
       "      <th>Indonesia</th>\n",
       "      <td>239389940</td>\n",
       "    </tr>\n",
       "    <tr>\n",
       "      <th>Malaysia</th>\n",
       "      <td>233548349</td>\n",
       "    </tr>\n",
       "    <tr>\n",
       "      <th>Mexico</th>\n",
       "      <td>206133266</td>\n",
       "    </tr>\n",
       "    <tr>\n",
       "      <th>Canada</th>\n",
       "      <td>191353795</td>\n",
       "    </tr>\n",
       "    <tr>\n",
       "      <th>Taiwan</th>\n",
       "      <td>182399577</td>\n",
       "    </tr>\n",
       "    <tr>\n",
       "      <th>South Korea</th>\n",
       "      <td>178055872</td>\n",
       "    </tr>\n",
       "    <tr>\n",
       "      <th>Australia</th>\n",
       "      <td>174318979</td>\n",
       "    </tr>\n",
       "    <tr>\n",
       "      <th>Philippines</th>\n",
       "      <td>173943842</td>\n",
       "    </tr>\n",
       "    <tr>\n",
       "      <th>Russia</th>\n",
       "      <td>171945813</td>\n",
       "    </tr>\n",
       "    <tr>\n",
       "      <th>Netherlands</th>\n",
       "      <td>163647320</td>\n",
       "    </tr>\n",
       "    <tr>\n",
       "      <th>The Netherlands</th>\n",
       "      <td>132140959</td>\n",
       "    </tr>\n",
       "    <tr>\n",
       "      <th>Italy</th>\n",
       "      <td>125698474</td>\n",
       "    </tr>\n",
       "    <tr>\n",
       "      <th>Republic of Korea</th>\n",
       "      <td>120007648</td>\n",
       "    </tr>\n",
       "    <tr>\n",
       "      <th>Qatar</th>\n",
       "      <td>37283987</td>\n",
       "    </tr>\n",
       "    <tr>\n",
       "      <th>Vietnam</th>\n",
       "      <td>21900000</td>\n",
       "    </tr>\n",
       "    <tr>\n",
       "      <th>Brazil</th>\n",
       "      <td>20322520</td>\n",
       "    </tr>\n",
       "  </tbody>\n",
       "</table>\n",
       "</div>"
      ],
      "text/plain": [
       "                      Passengers\n",
       "Country                         \n",
       "United States         3964596952\n",
       "China                 2344913081\n",
       "Japan                  526670590\n",
       "United Kingdom         518562015\n",
       "India                  474792880\n",
       "Germany                465158183\n",
       "Spain                  434672131\n",
       "United Arab Emirates   373342493\n",
       "France                 306041788\n",
       "Hong Kong SAR, China   288912187\n",
       "Turkey                 284701885\n",
       "Thailand               262259752\n",
       "Singapore              254829000\n",
       "Indonesia              239389940\n",
       "Malaysia               233548349\n",
       "Mexico                 206133266\n",
       "Canada                 191353795\n",
       "Taiwan                 182399577\n",
       "South Korea            178055872\n",
       "Australia              174318979\n",
       "Philippines            173943842\n",
       "Russia                 171945813\n",
       "Netherlands            163647320\n",
       "The Netherlands        132140959\n",
       "Italy                  125698474\n",
       "Republic of Korea      120007648\n",
       "Qatar                   37283987\n",
       "Vietnam                 21900000\n",
       "Brazil                  20322520"
      ]
     },
     "execution_count": 5,
     "metadata": {},
     "output_type": "execute_result"
    }
   ],
   "source": [
    "by_country = df.groupby('Country')\n",
    "df4=by_country.sum().drop(['Year','Rank'],axis=1)\n",
    "df4.sort_values(by='Passengers',axis=0,ascending=False)"
   ]
  },
  {
   "cell_type": "code",
   "execution_count": 6,
   "id": "fc4a8fb4",
   "metadata": {},
   "outputs": [],
   "source": [
    "df4.reset_index('Country',inplace=True)"
   ]
  },
  {
   "cell_type": "code",
   "execution_count": 7,
   "id": "ad90e976",
   "metadata": {},
   "outputs": [
    {
     "data": {
      "text/plain": [
       "<AxesSubplot:xlabel='Passengers', ylabel='Country'>"
      ]
     },
     "execution_count": 7,
     "metadata": {},
     "output_type": "execute_result"
    },
    {
     "data": {
      "image/png": "[encoded data removed]",
      "text/plain": [
       "<Figure size 1440x720 with 1 Axes>"
      ]
     },
     "metadata": {
      "needs_background": "light"
     },
     "output_type": "display_data"
    }
   ],
   "source": [
    "plt.figure(figsize=(20,10))\n",
    "sns.barplot(x='Passengers',y='Country',data=df4)"
   ]
  },
  {
   "cell_type": "markdown",
   "id": "f29e1094",
   "metadata": {},
   "source": [
    "## From above analysis we see United States-3964596952,China-2344913081,Japan-526670590,United Kingdom-518562015,India-474792880 are TOP 5 crowded airpots countries."
   ]
  },
  {
   "cell_type": "markdown",
   "id": "da9c48d6",
   "metadata": {},
   "source": [
    "# TASK-2 Which year had the most passenger?"
   ]
  },
  {
   "cell_type": "code",
   "execution_count": 8,
   "id": "13b8d394",
   "metadata": {},
   "outputs": [
    {
     "data": {
      "text/plain": [
       "array([2020, 2019, 2018, 2017, 2016], dtype=int64)"
      ]
     },
     "execution_count": 8,
     "metadata": {},
     "output_type": "execute_result"
    }
   ],
   "source": [
    "df['Year'].unique()"
   ]
  },
  {
   "cell_type": "code",
   "execution_count": 9,
   "id": "3217f183",
   "metadata": {},
   "outputs": [
    {
     "data": {
      "text/plain": [
       "1223369322"
      ]
     },
     "execution_count": 9,
     "metadata": {},
     "output_type": "execute_result"
    }
   ],
   "source": [
    "df[df['Year']==2020]['Passengers'].sum()"
   ]
  },
  {
   "cell_type": "code",
   "execution_count": 10,
   "id": "87509580",
   "metadata": {},
   "outputs": [
    {
     "data": {
      "text/plain": [
       "3055838581"
      ]
     },
     "execution_count": 10,
     "metadata": {},
     "output_type": "execute_result"
    }
   ],
   "source": [
    "df[df['Year']==2019]['Passengers'].sum()"
   ]
  },
  {
   "cell_type": "code",
   "execution_count": 11,
   "id": "4a870fd9",
   "metadata": {},
   "outputs": [
    {
     "data": {
      "text/plain": [
       "3008557846"
      ]
     },
     "execution_count": 11,
     "metadata": {},
     "output_type": "execute_result"
    }
   ],
   "source": [
    "df[df['Year']==2018]['Passengers'].sum()"
   ]
  },
  {
   "cell_type": "code",
   "execution_count": 12,
   "id": "3bdc1e26",
   "metadata": {},
   "outputs": [
    {
     "data": {
      "text/plain": [
       "2859279173"
      ]
     },
     "execution_count": 12,
     "metadata": {},
     "output_type": "execute_result"
    }
   ],
   "source": [
    "df[df['Year']==2017]['Passengers'].sum()"
   ]
  },
  {
   "cell_type": "code",
   "execution_count": 13,
   "id": "d1b82496",
   "metadata": {},
   "outputs": [
    {
     "data": {
      "text/plain": [
       "2724498356"
      ]
     },
     "execution_count": 13,
     "metadata": {},
     "output_type": "execute_result"
    }
   ],
   "source": [
    "df[df['Year']==2016]['Passengers'].sum()"
   ]
  },
  {
   "cell_type": "markdown",
   "id": "52c6904f",
   "metadata": {},
   "source": [
    "# TASK-3 Which year had the least passenger?"
   ]
  },
  {
   "cell_type": "code",
   "execution_count": 14,
   "id": "652efb12",
   "metadata": {},
   "outputs": [
    {
     "data": {
      "text/plain": [
       "1223369322"
      ]
     },
     "execution_count": 14,
     "metadata": {},
     "output_type": "execute_result"
    }
   ],
   "source": [
    "df[df['Year']==2020]['Passengers'].sum()"
   ]
  },
  {
   "cell_type": "markdown",
   "id": "e0f14a0e",
   "metadata": {},
   "source": [
    "### From above analysis we see Year 2019 is no. 1 ,Year 2018 is no.2,Year 2017 is no.3,year 2016 is no.4 and Year 2020 is at no.5 position."
   ]
  },
  {
   "cell_type": "markdown",
   "id": "8cec66b9",
   "metadata": {},
   "source": [
    "### OR In a different method"
   ]
  },
  {
   "cell_type": "code",
   "execution_count": 15,
   "id": "e339188c",
   "metadata": {},
   "outputs": [],
   "source": [
    "byyrs = df.groupby('Year')\n"
   ]
  },
  {
   "cell_type": "code",
   "execution_count": 16,
   "id": "cfc55adb",
   "metadata": {},
   "outputs": [
    {
     "data": {
      "text/html": [
       "<div>\n",
       "<style scoped>\n",
       "    .dataframe tbody tr th:only-of-type {\n",
       "        vertical-align: middle;\n",
       "    }\n",
       "\n",
       "    .dataframe tbody tr th {\n",
       "        vertical-align: top;\n",
       "    }\n",
       "\n",
       "    .dataframe thead th {\n",
       "        text-align: right;\n",
       "    }\n",
       "</style>\n",
       "<table border=\"1\" class=\"dataframe\">\n",
       "  <thead>\n",
       "    <tr style=\"text-align: right;\">\n",
       "      <th></th>\n",
       "      <th>Rank</th>\n",
       "      <th>Passengers</th>\n",
       "    </tr>\n",
       "    <tr>\n",
       "      <th>Year</th>\n",
       "      <th></th>\n",
       "      <th></th>\n",
       "    </tr>\n",
       "  </thead>\n",
       "  <tbody>\n",
       "    <tr>\n",
       "      <th>2016</th>\n",
       "      <td>1275</td>\n",
       "      <td>2724498356</td>\n",
       "    </tr>\n",
       "    <tr>\n",
       "      <th>2017</th>\n",
       "      <td>1275</td>\n",
       "      <td>2859279173</td>\n",
       "    </tr>\n",
       "    <tr>\n",
       "      <th>2018</th>\n",
       "      <td>1275</td>\n",
       "      <td>3008557846</td>\n",
       "    </tr>\n",
       "    <tr>\n",
       "      <th>2019</th>\n",
       "      <td>1275</td>\n",
       "      <td>3055838581</td>\n",
       "    </tr>\n",
       "    <tr>\n",
       "      <th>2020</th>\n",
       "      <td>1275</td>\n",
       "      <td>1223369322</td>\n",
       "    </tr>\n",
       "  </tbody>\n",
       "</table>\n",
       "</div>"
      ],
      "text/plain": [
       "      Rank  Passengers\n",
       "Year                  \n",
       "2016  1275  2724498356\n",
       "2017  1275  2859279173\n",
       "2018  1275  3008557846\n",
       "2019  1275  3055838581\n",
       "2020  1275  1223369322"
      ]
     },
     "execution_count": 16,
     "metadata": {},
     "output_type": "execute_result"
    }
   ],
   "source": [
    "df3=byyrs.sum()\n",
    "df3"
   ]
  },
  {
   "cell_type": "code",
   "execution_count": 17,
   "id": "0988e2a4",
   "metadata": {},
   "outputs": [
    {
     "data": {
      "text/html": [
       "<div>\n",
       "<style scoped>\n",
       "    .dataframe tbody tr th:only-of-type {\n",
       "        vertical-align: middle;\n",
       "    }\n",
       "\n",
       "    .dataframe tbody tr th {\n",
       "        vertical-align: top;\n",
       "    }\n",
       "\n",
       "    .dataframe thead th {\n",
       "        text-align: right;\n",
       "    }\n",
       "</style>\n",
       "<table border=\"1\" class=\"dataframe\">\n",
       "  <thead>\n",
       "    <tr style=\"text-align: right;\">\n",
       "      <th></th>\n",
       "      <th>Year</th>\n",
       "      <th>Rank</th>\n",
       "      <th>Passengers</th>\n",
       "    </tr>\n",
       "  </thead>\n",
       "  <tbody>\n",
       "    <tr>\n",
       "      <th>0</th>\n",
       "      <td>2016</td>\n",
       "      <td>1275</td>\n",
       "      <td>2724498356</td>\n",
       "    </tr>\n",
       "    <tr>\n",
       "      <th>1</th>\n",
       "      <td>2017</td>\n",
       "      <td>1275</td>\n",
       "      <td>2859279173</td>\n",
       "    </tr>\n",
       "    <tr>\n",
       "      <th>2</th>\n",
       "      <td>2018</td>\n",
       "      <td>1275</td>\n",
       "      <td>3008557846</td>\n",
       "    </tr>\n",
       "    <tr>\n",
       "      <th>3</th>\n",
       "      <td>2019</td>\n",
       "      <td>1275</td>\n",
       "      <td>3055838581</td>\n",
       "    </tr>\n",
       "    <tr>\n",
       "      <th>4</th>\n",
       "      <td>2020</td>\n",
       "      <td>1275</td>\n",
       "      <td>1223369322</td>\n",
       "    </tr>\n",
       "  </tbody>\n",
       "</table>\n",
       "</div>"
      ],
      "text/plain": [
       "   Year  Rank  Passengers\n",
       "0  2016  1275  2724498356\n",
       "1  2017  1275  2859279173\n",
       "2  2018  1275  3008557846\n",
       "3  2019  1275  3055838581\n",
       "4  2020  1275  1223369322"
      ]
     },
     "execution_count": 17,
     "metadata": {},
     "output_type": "execute_result"
    }
   ],
   "source": [
    "df3.reset_index('Year',inplace=True)\n",
    "df3"
   ]
  },
  {
   "cell_type": "code",
   "execution_count": 18,
   "id": "cdae8934",
   "metadata": {},
   "outputs": [
    {
     "data": {
      "text/plain": [
       "<AxesSubplot:xlabel='Year', ylabel='Passengers'>"
      ]
     },
     "execution_count": 18,
     "metadata": {},
     "output_type": "execute_result"
    },
    {
     "data": {
      "image/png": "[encoded data removed]",
      "text/plain": [
       "<Figure size 432x288 with 1 Axes>"
      ]
     },
     "metadata": {
      "needs_background": "light"
     },
     "output_type": "display_data"
    }
   ],
   "source": [
    "sns.barplot(y='Passengers',x='Year',data=df3)"
   ]
  },
  {
   "cell_type": "markdown",
   "id": "57b243e2",
   "metadata": {},
   "source": [
    "# TASK-4 What is the total of passenger in india in different years?"
   ]
  },
  {
   "cell_type": "code",
   "execution_count": 21,
   "id": "5cf7abb3",
   "metadata": {},
   "outputs": [
    {
     "data": {
      "text/html": [
       "<div>\n",
       "<style scoped>\n",
       "    .dataframe tbody tr th:only-of-type {\n",
       "        vertical-align: middle;\n",
       "    }\n",
       "\n",
       "    .dataframe tbody tr th {\n",
       "        vertical-align: top;\n",
       "    }\n",
       "\n",
       "    .dataframe thead th {\n",
       "        text-align: right;\n",
       "    }\n",
       "</style>\n",
       "<table border=\"1\" class=\"dataframe\">\n",
       "  <thead>\n",
       "    <tr style=\"text-align: right;\">\n",
       "      <th></th>\n",
       "      <th></th>\n",
       "      <th>Passengers</th>\n",
       "    </tr>\n",
       "    <tr>\n",
       "      <th>Country</th>\n",
       "      <th>Year</th>\n",
       "      <th></th>\n",
       "    </tr>\n",
       "  </thead>\n",
       "  <tbody>\n",
       "    <tr>\n",
       "      <th rowspan=\"4\" valign=\"top\">Australia</th>\n",
       "      <th>2016</th>\n",
       "      <td>41985810</td>\n",
       "    </tr>\n",
       "    <tr>\n",
       "      <th>2017</th>\n",
       "      <td>43410355</td>\n",
       "    </tr>\n",
       "    <tr>\n",
       "      <th>2018</th>\n",
       "      <td>44475976</td>\n",
       "    </tr>\n",
       "    <tr>\n",
       "      <th>2019</th>\n",
       "      <td>44446838</td>\n",
       "    </tr>\n",
       "    <tr>\n",
       "      <th>Brazil</th>\n",
       "      <th>2020</th>\n",
       "      <td>20322520</td>\n",
       "    </tr>\n",
       "    <tr>\n",
       "      <th>...</th>\n",
       "      <th>...</th>\n",
       "      <td>...</td>\n",
       "    </tr>\n",
       "    <tr>\n",
       "      <th rowspan=\"4\" valign=\"top\">United States</th>\n",
       "      <th>2017</th>\n",
       "      <td>869980194</td>\n",
       "    </tr>\n",
       "    <tr>\n",
       "      <th>2018</th>\n",
       "      <td>904921387</td>\n",
       "    </tr>\n",
       "    <tr>\n",
       "      <th>2019</th>\n",
       "      <td>934865503</td>\n",
       "    </tr>\n",
       "    <tr>\n",
       "      <th>2020</th>\n",
       "      <td>368767320</td>\n",
       "    </tr>\n",
       "    <tr>\n",
       "      <th>Vietnam</th>\n",
       "      <th>2020</th>\n",
       "      <td>21900000</td>\n",
       "    </tr>\n",
       "  </tbody>\n",
       "</table>\n",
       "<p>112 rows × 1 columns</p>\n",
       "</div>"
      ],
      "text/plain": [
       "                    Passengers\n",
       "Country       Year            \n",
       "Australia     2016    41985810\n",
       "              2017    43410355\n",
       "              2018    44475976\n",
       "              2019    44446838\n",
       "Brazil        2020    20322520\n",
       "...                        ...\n",
       "United States 2017   869980194\n",
       "              2018   904921387\n",
       "              2019   934865503\n",
       "              2020   368767320\n",
       "Vietnam       2020    21900000\n",
       "\n",
       "[112 rows x 1 columns]"
      ]
     },
     "execution_count": 21,
     "metadata": {},
     "output_type": "execute_result"
    }
   ],
   "source": [
    "total_passenger = pd.pivot_table(df,index=['Country','Year'],aggfunc={'Passengers': 'sum'})\n",
    "total_passenger"
   ]
  },
  {
   "cell_type": "code",
   "execution_count": 23,
   "id": "d13dfd13",
   "metadata": {},
   "outputs": [
    {
     "data": {
      "text/html": [
       "<div>\n",
       "<style scoped>\n",
       "    .dataframe tbody tr th:only-of-type {\n",
       "        vertical-align: middle;\n",
       "    }\n",
       "\n",
       "    .dataframe tbody tr th {\n",
       "        vertical-align: top;\n",
       "    }\n",
       "\n",
       "    .dataframe thead th {\n",
       "        text-align: right;\n",
       "    }\n",
       "</style>\n",
       "<table border=\"1\" class=\"dataframe\">\n",
       "  <thead>\n",
       "    <tr style=\"text-align: right;\">\n",
       "      <th></th>\n",
       "      <th>Passengers</th>\n",
       "    </tr>\n",
       "    <tr>\n",
       "      <th>Year</th>\n",
       "      <th></th>\n",
       "    </tr>\n",
       "  </thead>\n",
       "  <tbody>\n",
       "    <tr>\n",
       "      <th>2016</th>\n",
       "      <td>100311940</td>\n",
       "    </tr>\n",
       "    <tr>\n",
       "      <th>2017</th>\n",
       "      <td>110655762</td>\n",
       "    </tr>\n",
       "    <tr>\n",
       "      <th>2018</th>\n",
       "      <td>119777707</td>\n",
       "    </tr>\n",
       "    <tr>\n",
       "      <th>2019</th>\n",
       "      <td>115546471</td>\n",
       "    </tr>\n",
       "    <tr>\n",
       "      <th>2020</th>\n",
       "      <td>28501000</td>\n",
       "    </tr>\n",
       "  </tbody>\n",
       "</table>\n",
       "</div>"
      ],
      "text/plain": [
       "      Passengers\n",
       "Year            \n",
       "2016   100311940\n",
       "2017   110655762\n",
       "2018   119777707\n",
       "2019   115546471\n",
       "2020    28501000"
      ]
     },
     "execution_count": 23,
     "metadata": {},
     "output_type": "execute_result"
    }
   ],
   "source": [
    "total_passenger.loc['India']"
   ]
  }
 ],
 "metadata": {
  "kernelspec": {
   "display_name": "Python 3",
   "language": "python",
   "name": "python3"
  },
  "language_info": {
   "codemirror_mode": {
    "name": "ipython",
    "version": 3
   },
   "file_extension": ".py",
   "mimetype": "text/x-python",
   "name": "python",
   "nbconvert_exporter": "python",
   "pygments_lexer": "ipython3",
   "version": "3.8.8"
  }
 },
 "nbformat": 4,
 "nbformat_minor": 5
}
